{
 "cells": [
  {
   "cell_type": "code",
   "execution_count": 1,
   "metadata": {},
   "outputs": [],
   "source": [
    "import numpy as np\n",
    "import cv2\n",
    "import matplotlib.pyplot as plt\n",
    "%matplotlib qt"
   ]
  },
  {
   "cell_type": "code",
   "execution_count": 1,
   "metadata": {},
   "outputs": [
    {
     "ename": "NameError",
     "evalue": "name 'cv2' is not defined",
     "output_type": "error",
     "traceback": [
      "\u001b[1;31m---------------------------------------------------------------------------\u001b[0m",
      "\u001b[1;31mNameError\u001b[0m                                 Traceback (most recent call last)",
      "\u001b[1;32m<ipython-input-1-765d5beccd1b>\u001b[0m in \u001b[0;36m<module>\u001b[1;34m\u001b[0m\n\u001b[1;32m----> 1\u001b[1;33m \u001b[0mimg\u001b[0m \u001b[1;33m=\u001b[0m \u001b[0mcv2\u001b[0m\u001b[1;33m.\u001b[0m\u001b[0mimread\u001b[0m\u001b[1;33m(\u001b[0m\u001b[1;34m'images/board.jpg'\u001b[0m\u001b[1;33m,\u001b[0m\u001b[0mcv2\u001b[0m\u001b[1;33m.\u001b[0m\u001b[0mIMREAD_GRAYSCALE\u001b[0m\u001b[1;33m)\u001b[0m\u001b[1;33m\u001b[0m\u001b[1;33m\u001b[0m\u001b[0m\n\u001b[0m\u001b[0;32m      2\u001b[0m \u001b[1;31m# print(img.shape)\u001b[0m\u001b[1;33m\u001b[0m\u001b[1;33m\u001b[0m\u001b[1;33m\u001b[0m\u001b[0m\n\u001b[0;32m      3\u001b[0m \u001b[1;31m# des_img = cv2.imread('images/board_desired.jpg',cv2.IMREAD_GRAYSCALE)\u001b[0m\u001b[1;33m\u001b[0m\u001b[1;33m\u001b[0m\u001b[1;33m\u001b[0m\u001b[0m\n\u001b[0;32m      4\u001b[0m \u001b[0mbins_count\u001b[0m \u001b[1;33m=\u001b[0m \u001b[1;36m256\u001b[0m\u001b[1;33m\u001b[0m\u001b[1;33m\u001b[0m\u001b[0m\n\u001b[0;32m      5\u001b[0m \u001b[1;31m# # plt.imshow(img,cmap='gray')\u001b[0m\u001b[1;33m\u001b[0m\u001b[1;33m\u001b[0m\u001b[1;33m\u001b[0m\u001b[0m\n",
      "\u001b[1;31mNameError\u001b[0m: name 'cv2' is not defined"
     ]
    }
   ],
   "source": [
    "img = cv2.imread('images/board.jpg',cv2.IMREAD_GRAYSCALE)\n",
    "# print(img.shape)\n",
    "# des_img = cv2.imread('images/board_desired.jpg',cv2.IMREAD_GRAYSCALE)\n",
    "bins_count = 256\n",
    "# # plt.imshow(img,cmap='gray')\n",
    "plt.figure(\"histogram\")\n",
    "plt.subplot(121)\n",
    "plt.title(\"original histogram\")\n",
    "freq, bins, patches = plt.hist(img.ravel(),bins=bins_count,color='red')\n",
    "\n",
    "total_pixels = np.sum(freq)\n",
    "\n",
    "\n",
    "c1 = freq / total_pixels\n",
    "prev = 0\n",
    "for i in range(len(c1)):\n",
    "    c1[i] = prev = prev + c1[i]\n",
    "c1 *= bins[-1]\n",
    "c1 = np.round(c1)\n",
    "\n",
    "imgn = np.array(img,copy=True)\n",
    "for i in range(bins_count):\n",
    "    imgn[img == i] = c1[i]\n",
    "\n",
    "plt.subplot(122)\n",
    "plt.title(\"equalized histogram\")\n",
    "plt.bar(np.arange(0,bins_count),c1)\n",
    "plt.show()\n",
    "\n",
    "plt.figure(\"image\")\n",
    "plt.subplot(121)\n",
    "plt.title(\"original\")\n",
    "plt.imshow(img,cmap='gray')\n",
    "plt.colorbar()\n",
    "plt.subplot(122)\n",
    "plt.title(\"equalized\")\n",
    "plt.imshow(imgn,cmap='gray')\n",
    "plt.colorbar()\n",
    "plt.show()"
   ]
  }
 ],
 "metadata": {
  "kernelspec": {
   "display_name": "Python 3",
   "language": "python",
   "name": "python3"
  },
  "language_info": {
   "codemirror_mode": {
    "name": "ipython",
    "version": 3
   },
   "file_extension": ".py",
   "mimetype": "text/x-python",
   "name": "python",
   "nbconvert_exporter": "python",
   "pygments_lexer": "ipython3",
   "version": "3.7.3"
  }
 },
 "nbformat": 4,
 "nbformat_minor": 2
}
