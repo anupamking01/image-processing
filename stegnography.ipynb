{
 "cells": [
  {
   "cell_type": "code",
   "execution_count": 62,
   "metadata": {},
   "outputs": [],
   "source": [
    "import numpy as np\n",
    "import cv2\n",
    "import matplotlib.pyplot as plt\n",
    "# %matplotlib qt"
   ]
  },
  {
   "cell_type": "code",
   "execution_count": 63,
   "metadata": {},
   "outputs": [],
   "source": [
    "def encode(img,data,filename):\n",
    "    stream = img.ravel()\n",
    "    if len(stream) < len(data)*9:\n",
    "        print(\"image is not big enough\")\n",
    "        return\n",
    "    j=0\n",
    "    for i in range(0,len(stream),9):\n",
    "        if j >= len(data):\n",
    "            break\n",
    "        for k in range(8):\n",
    "            stream[i+k] &= 254\n",
    "            stream[i+k] |= (( (1<<k) & ord(data[j]) ) > 0)\n",
    "        stream[i+8] &= 254\n",
    "        stream[i+8] |= (j < len(data)-1)\n",
    "        j += 1\n",
    "        \n",
    "    imgn = np.reshape(stream,img.shape)\n",
    "    print(stream[:(len(data)+1)*9])\n",
    "    cv2.imwrite(filename.split('.')[0]+\"_encoded.png\",imgn)\n",
    "    return imgn\n",
    "    \n",
    "def decode(img):\n",
    "    data = ''\n",
    "    stream = img.ravel()\n",
    "    print(stream[:27])\n",
    "    for i in range(0, len(stream), 9):\n",
    "        val = 0\n",
    "        for k in range(8):\n",
    "            val |= ( (1<<k)*(stream[i+k]&1 > 0) )\n",
    "        print(val)\n",
    "        data += chr(val)\n",
    "        if stream[i+8]&1 == 0:\n",
    "            break\n",
    "    return data\n",
    "        "
   ]
  },
  {
   "cell_type": "code",
   "execution_count": 64,
   "metadata": {},
   "outputs": [
    {
     "name": "stdout",
     "output_type": "stream",
     "text": [
      "[181 182 182 182 184 185 183 184 185 183 184 185 183 186 185 185 186 185\n",
      " 185 186 184 185 186 185 185 186 185 184 186 185 184 187 185 185 188 187\n",
      " 184 188 186 186 188 187 184 188 187 185 189 186 189 190 189 189 190 189\n",
      " 191 190 189 188 191 189 189 190 189 189 190 189 189 190 189 189 190 189\n",
      " 191 188 188 190 188 187 189 188 187 188 189 186 188 189 189 189 188 188\n",
      " 187 187 187 183 185 185 181 184 182]\n"
     ]
    }
   ],
   "source": [
    "path = 'images/cups.jpg'\n",
    "img = cv2.imread(path)\n",
    "\n",
    "plt.subplot(121)\n",
    "plt.title(\"original image\")\n",
    "plt.imshow(cv2.cvtColor(img,cv2.COLOR_BGR2RGB))\n",
    "imgn=encode(img,\"amit kumar\",path)\n",
    "plt.subplot(122)\n",
    "plt.title(\"encoded image\")\n",
    "plt.imshow(cv2.cvtColor(imgn,cv2.COLOR_BGR2RGB))\n",
    "plt.show()"
   ]
  },
  {
   "cell_type": "code",
   "execution_count": 65,
   "metadata": {},
   "outputs": [
    {
     "name": "stdout",
     "output_type": "stream",
     "text": [
      "[181 182 182 182 184 185 183 184 185 183 184 185 183 186 185 185 186 185\n",
      " 185 186 184 185 186 185 185 186 185]\n",
      "97\n",
      "109\n",
      "105\n",
      "116\n",
      "32\n",
      "107\n",
      "117\n",
      "109\n",
      "97\n",
      "114\n",
      "extracted data = 'amit kumar'\n"
     ]
    }
   ],
   "source": [
    "d_path = 'images/cups_encoded.png'\n",
    "img_d = cv2.imread(d_path)\n",
    "print(f\"extracted data = '{decode(img_d)}'\")"
   ]
  }
 ],
 "metadata": {
  "kernelspec": {
   "display_name": "Python 3",
   "language": "python",
   "name": "python3"
  },
  "language_info": {
   "codemirror_mode": {
    "name": "ipython",
    "version": 3
   },
   "file_extension": ".py",
   "mimetype": "text/x-python",
   "name": "python",
   "nbconvert_exporter": "python",
   "pygments_lexer": "ipython3",
   "version": "3.7.0"
  }
 },
 "nbformat": 4,
 "nbformat_minor": 2
}
