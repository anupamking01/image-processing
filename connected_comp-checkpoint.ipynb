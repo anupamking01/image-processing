{
 "cells": [
  {
   "cell_type": "code",
   "execution_count": 9,
   "metadata": {},
   "outputs": [],
   "source": [
    "from PIL import Image\n",
    "import matplotlib.pyplot as plt\n",
    "import numpy as np\n",
    "%matplotlib qt"
   ]
  },
  {
   "cell_type": "code",
   "execution_count": 6,
   "metadata": {},
   "outputs": [
    {
     "name": "stdout",
     "output_type": "stream",
     "text": [
      "image size is: (10, 10)\n",
      "[1, 1, 0, 0, 0, 0, 0, 0, 0, 0]\n",
      "[0, 1, 0, 0, 0, 0, 0, 0, 0, 0]\n",
      "[0, 1, 1, 0, 0, 1, 1, 1, 0, 0]\n",
      "[0, 1, 1, 0, 0, 0, 1, 1, 0, 0]\n",
      "[0, 0, 1, 1, 0, 0, 1, 1, 0, 0]\n",
      "[0, 0, 0, 1, 0, 0, 0, 1, 0, 0]\n",
      "[0, 0, 0, 0, 0, 0, 0, 0, 0, 0]\n",
      "[0, 0, 0, 0, 0, 1, 0, 0, 0, 0]\n",
      "[0, 0, 1, 1, 1, 1, 0, 0, 1, 1]\n",
      "[0, 0, 0, 0, 0, 0, 0, 0, 1, 1]\n"
     ]
    }
   ],
   "source": [
    "path = \"images/objects_small.bmp\"\n",
    "img = Image.open(path)\n",
    "\n",
    "print(\"image size is:\", img.size)\n",
    "mat = []\n",
    "\n",
    "for i in range(img.size[0]):\n",
    "    row = []\n",
    "    for j in range(img.size[1]):\n",
    "        if img.getpixel((j, i)) == 0:\n",
    "            row.append(1)\n",
    "        else:\n",
    "            row.append(0)\n",
    "    mat.append(row)\n",
    "\n",
    "for r in mat:\n",
    "    print(r)\n",
    "\n",
    "# plt.set_cmap(\"gray\")\n",
    "plt.imshow(mat,cmap=\"gray\")\n",
    "plt.colorbar()\n",
    "plt.title(\"objects\")\n",
    "plt.show()"
   ]
  },
  {
   "cell_type": "code",
   "execution_count": 7,
   "metadata": {},
   "outputs": [
    {
     "name": "stdout",
     "output_type": "stream",
     "text": [
      "-----------------First Pass-----------------\n",
      "[1, 1, 0, 0, 0, 0, 0, 0, 0, 0]\n",
      "[0, 1, 0, 0, 0, 0, 0, 0, 0, 0]\n",
      "[0, 1, 1, 0, 0, 2, 2, 2, 0, 0]\n",
      "[0, 1, 1, 0, 0, 0, 2, 2, 0, 0]\n",
      "[0, 0, 1, 1, 0, 0, 2, 2, 0, 0]\n",
      "[0, 0, 0, 1, 0, 0, 0, 2, 0, 0]\n",
      "[0, 0, 0, 0, 0, 0, 0, 0, 0, 0]\n",
      "[0, 0, 0, 0, 0, 3, 0, 0, 0, 0]\n",
      "[0, 0, 4, 4, 4, 3, 0, 0, 5, 5]\n",
      "[0, 0, 0, 0, 0, 0, 0, 0, 5, 5]\n",
      "---------------Pairs-------------------\n",
      "[(4, 3)]\n"
     ]
    }
   ],
   "source": [
    "print(\"-----------------First Pass-----------------\")\n",
    "val = 1\n",
    "\n",
    "pairs = []\n",
    "\n",
    "for i in range(len(mat)):\n",
    "    for j in range(len(mat[0])):\n",
    "        if mat[i][j]:\n",
    "            if i > 0 and mat[i - 1][j]:\n",
    "                mat[i][j] = mat[i - 1][j]\n",
    "                if j > 0 and mat[i][j - 1] and mat[i][j - 1] != mat[i][j]:\n",
    "                    pairs.append((mat[i][j - 1], mat[i][j]))\n",
    "            elif j > 0 and mat[i][j - 1]:\n",
    "                mat[i][j] = mat[i][j - 1]\n",
    "            else:\n",
    "                mat[i][j] = val\n",
    "                val += 1\n",
    "        else:\n",
    "            mat[i][j] = 0\n",
    "\n",
    "for r in mat:\n",
    "    print(r)\n",
    "plt.imshow(mat)\n",
    "plt.colorbar()\n",
    "plt.title(\"connected components\")\n",
    "plt.show()\n",
    "\n",
    "print(\"---------------Pairs-------------------\")\n",
    "print(pairs)\n",
    "\n"
   ]
  },
  {
   "cell_type": "code",
   "execution_count": 8,
   "metadata": {},
   "outputs": [
    {
     "name": "stdout",
     "output_type": "stream",
     "text": [
      "---------------Equivalent classes-------------------\n",
      "0 > {0}\n",
      "1 > {1}\n",
      "2 > {2}\n",
      "3 > {3, 4}\n",
      "4 > {3, 4}\n",
      "5 > {5}\n",
      "---------------objects-------------------\n",
      "[1, 1, 0, 0, 0, 0, 0, 0, 0, 0]\n",
      "[0, 1, 0, 0, 0, 0, 0, 0, 0, 0]\n",
      "[0, 1, 1, 0, 0, 2, 2, 2, 0, 0]\n",
      "[0, 1, 1, 0, 0, 0, 2, 2, 0, 0]\n",
      "[0, 0, 1, 1, 0, 0, 2, 2, 0, 0]\n",
      "[0, 0, 0, 1, 0, 0, 0, 2, 0, 0]\n",
      "[0, 0, 0, 0, 0, 0, 0, 0, 0, 0]\n",
      "[0, 0, 0, 0, 0, 3, 0, 0, 0, 0]\n",
      "[0, 0, 3, 3, 3, 3, 0, 0, 5, 5]\n",
      "[0, 0, 0, 0, 0, 0, 0, 0, 5, 5]\n"
     ]
    }
   ],
   "source": [
    "eq_classes = {}\n",
    "for i in range(val):\n",
    "    eq_classes[i] = {i}\n",
    "    queue = [i]\n",
    "    state = [False for j in range(val)]\n",
    "    state[i] = True\n",
    "    while len(queue) > 0:\n",
    "        pop_el = queue.pop(0)\n",
    "        for p in pairs:\n",
    "            if pop_el == p[0]:\n",
    "                if state[p[1]] is False:\n",
    "                    queue.append(p[1])\n",
    "                    state[p[1]] = True\n",
    "                    eq_classes[i].add(p[1])\n",
    "            elif pop_el == p[1]:\n",
    "                if state[p[0]] is False:\n",
    "                    queue.append(p[0])\n",
    "                    state[p[0]] = True\n",
    "                    eq_classes[i].add(p[0])\n",
    "\n",
    "print(\"---------------Equivalent classes-------------------\")\n",
    "for k, v in eq_classes.items():\n",
    "    print(k, \">\", v)\n",
    "\n",
    "for i in range(len(mat)):\n",
    "    for j in range(len(mat[0])):\n",
    "        if mat[i][j]:\n",
    "            mat[i][j] = sorted(eq_classes[mat[i][j]])[0]\n",
    "\n",
    "print(\"---------------objects-------------------\")\n",
    "for r in mat:\n",
    "    print(r)\n",
    "\n",
    "plt.imshow(mat)\n",
    "plt.colorbar()\n",
    "plt.title(\"connected components\")\n",
    "plt.show()"
   ]
  },
  {
   "cell_type": "code",
   "execution_count": null,
   "metadata": {},
   "outputs": [],
   "source": []
  }
 ],
 "metadata": {
  "kernelspec": {
   "display_name": "Python 3",
   "language": "python",
   "name": "python3"
  },
  "language_info": {
   "codemirror_mode": {
    "name": "ipython",
    "version": 3
   },
   "file_extension": ".py",
   "mimetype": "text/x-python",
   "name": "python",
   "nbconvert_exporter": "python",
   "pygments_lexer": "ipython3",
   "version": "3.7.0"
  }
 },
 "nbformat": 4,
 "nbformat_minor": 2
}
