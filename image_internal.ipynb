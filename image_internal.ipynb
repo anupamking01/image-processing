{
 "cells": [
  {
   "cell_type": "code",
   "execution_count": 5,
   "metadata": {},
   "outputs": [],
   "source": [
    "import cv2\n",
    "import numpy as np\n",
    "import matplotlib.pyplot as plt"
   ]
  },
  {
   "cell_type": "code",
   "execution_count": 6,
   "metadata": {},
   "outputs": [
    {
     "data": {
      "text/plain": [
       "array([[[ 43,  51,  64],\n",
       "        [ 44,  53,  66],\n",
       "        [ 47,  56,  69],\n",
       "        ...,\n",
       "        [ 83,  85, 103],\n",
       "        [ 85,  87, 105],\n",
       "        [ 86,  88, 106]],\n",
       "\n",
       "       [[ 43,  51,  64],\n",
       "        [ 44,  53,  66],\n",
       "        [ 46,  55,  68],\n",
       "        ...,\n",
       "        [ 84,  87, 102],\n",
       "        [ 86,  89, 104],\n",
       "        [ 87,  90, 105]],\n",
       "\n",
       "       [[ 42,  51,  64],\n",
       "        [ 44,  53,  67],\n",
       "        [ 46,  55,  69],\n",
       "        ...,\n",
       "        [ 86,  89, 104],\n",
       "        [ 90,  90, 106],\n",
       "        [ 91,  91, 107]],\n",
       "\n",
       "       ...,\n",
       "\n",
       "       [[ 60, 139,  98],\n",
       "        [ 59, 141,  99],\n",
       "        [ 62, 144, 101],\n",
       "        ...,\n",
       "        [ 55, 134,  91],\n",
       "        [ 57, 136,  93],\n",
       "        [ 46, 125,  82]],\n",
       "\n",
       "       [[ 59, 141,  99],\n",
       "        [ 62, 144, 102],\n",
       "        [ 65, 147, 104],\n",
       "        ...,\n",
       "        [ 59, 135,  93],\n",
       "        [ 63, 139,  97],\n",
       "        [ 54, 130,  88]],\n",
       "\n",
       "       [[ 64, 146, 104],\n",
       "        [ 67, 149, 107],\n",
       "        [ 70, 152, 109],\n",
       "        ...,\n",
       "        [ 66, 140,  98],\n",
       "        [ 74, 148, 106],\n",
       "        [ 68, 142, 100]]], dtype=uint8)"
      ]
     },
     "execution_count": 6,
     "metadata": {},
     "output_type": "execute_result"
    }
   ],
   "source": [
    "img=cv2.imread(\"messi.jpg\")\n",
    "img"
   ]
  },
  {
   "cell_type": "code",
   "execution_count": 7,
   "metadata": {},
   "outputs": [
    {
     "ename": "error",
     "evalue": "OpenCV(3.4.2) /tmp/build/80754af9/opencv-suite_1535558553474/work/modules/highgui/src/window.cpp:632: error: (-2:Unspecified error) The function is not implemented. Rebuild the library with Windows, GTK+ 2.x or Carbon support. If you are on Ubuntu or Debian, install libgtk2.0-dev and pkg-config, then re-run cmake or configure script in function 'cvShowImage'\n",
     "output_type": "error",
     "traceback": [
      "\u001b[0;31m---------------------------------------------------------------------------\u001b[0m",
      "\u001b[0;31merror\u001b[0m                                     Traceback (most recent call last)",
      "\u001b[0;32m<ipython-input-7-29232a6a6a89>\u001b[0m in \u001b[0;36m<module>\u001b[0;34m\u001b[0m\n\u001b[0;32m----> 1\u001b[0;31m \u001b[0mcv2\u001b[0m\u001b[0;34m.\u001b[0m\u001b[0mimshow\u001b[0m\u001b[0;34m(\u001b[0m\u001b[0;34m\"original\"\u001b[0m\u001b[0;34m,\u001b[0m\u001b[0mimg\u001b[0m\u001b[0;34m)\u001b[0m\u001b[0;34m\u001b[0m\u001b[0;34m\u001b[0m\u001b[0m\n\u001b[0m\u001b[1;32m      2\u001b[0m \u001b[0mcv2\u001b[0m\u001b[0;34m.\u001b[0m\u001b[0mwaitKey\u001b[0m\u001b[0;34m(\u001b[0m\u001b[0;36m0\u001b[0m\u001b[0;34m)\u001b[0m\u001b[0;34m\u001b[0m\u001b[0;34m\u001b[0m\u001b[0m\n\u001b[1;32m      3\u001b[0m \u001b[0mcv2\u001b[0m\u001b[0;34m.\u001b[0m\u001b[0mdestroyAllWindows\u001b[0m\u001b[0;34m(\u001b[0m\u001b[0;34m)\u001b[0m\u001b[0;34m\u001b[0m\u001b[0;34m\u001b[0m\u001b[0m\n",
      "\u001b[0;31merror\u001b[0m: OpenCV(3.4.2) /tmp/build/80754af9/opencv-suite_1535558553474/work/modules/highgui/src/window.cpp:632: error: (-2:Unspecified error) The function is not implemented. Rebuild the library with Windows, GTK+ 2.x or Carbon support. If you are on Ubuntu or Debian, install libgtk2.0-dev and pkg-config, then re-run cmake or configure script in function 'cvShowImage'\n"
     ]
    }
   ],
   "source": [
    "cv2.imshow(\"original\",img)\n",
    "cv2.waitKey(0)\n",
    "cv2.destroyAllWindows()"
   ]
  },
  {
   "cell_type": "code",
   "execution_count": 22,
   "metadata": {},
   "outputs": [],
   "source": [
    "def detect(img):\n",
    "    new_image = np.zeros(img.shape)\n",
    "    for i in range(0,img.shape[0]):\n",
    "        for j in range(0,img.shape[1]):\n",
    "            if img[i,j,0]==0 and img[i,j,1]==0 and img[i,j,2]==0:\n",
    "                new_image[i,j,0]=0\n",
    "                new_image[i,j,1]=128\n",
    "                new_image[i,j,2]=0\n",
    "            else:\n",
    "                new_image[i,j]=img[i,j]\n",
    "    return new_image"
   ]
  },
  {
   "cell_type": "code",
   "execution_count": 23,
   "metadata": {},
   "outputs": [],
   "source": [
    "cv2.imshow(\"detected\",detect(img))\n",
    "cv2.waitKey(0)\n",
    "cv2.destroyAllWindows()"
   ]
  },
  {
   "cell_type": "code",
   "execution_count": 34,
   "metadata": {},
   "outputs": [],
   "source": [
    "def edgeLen(img):\n",
    "    mm={}\n",
    "    for i in range(0,img.shape[0]):\n",
    "        for j in range(0,img.shape[1]):\n",
    "            if img[i,j,0]!=0 or img[i,j,1]!=128 or img[i,j,2]!=0:\n",
    "                continue\n",
    "            if i not in mm:\n",
    "                mm[i]=0\n",
    "            if j not in mm:\n",
    "                mm[j]=0\n",
    "            mm[i]+=1\n",
    "            mm[j]+=1\n",
    "    l1,l2=0,0\n",
    "    print(mm)\n",
    "    for a in mm:\n",
    "        if mm[a]>l1:\n",
    "            l2=l1\n",
    "            l1=a\n",
    "        elif mm[a]>l2:\n",
    "            l2=mm[a]\n",
    "    print(\"length of edge 1\",l1)\n",
    "    print(\"length of edge 2\",l2)"
   ]
  },
  {
   "cell_type": "code",
   "execution_count": 35,
   "metadata": {},
   "outputs": [
    {
     "name": "stdout",
     "output_type": "stream",
     "text": [
      "{10: 378, 12: 2, 14: 3, 15: 3, 16: 3, 17: 3, 18: 3, 19: 3, 20: 3, 21: 3, 22: 3, 23: 3, 24: 3, 25: 3, 26: 3, 27: 3, 28: 3, 29: 3, 30: 3, 31: 3, 32: 3, 33: 3, 34: 3, 35: 3, 36: 3, 37: 3, 38: 3, 39: 3, 40: 3, 41: 3, 42: 3, 43: 3, 44: 3, 45: 3, 46: 3, 47: 3, 48: 3, 49: 3, 50: 3, 51: 3, 52: 3, 53: 3, 54: 3, 55: 3, 56: 3, 57: 3, 58: 3, 59: 3, 60: 3, 61: 3, 62: 3, 63: 3, 64: 3, 65: 3, 66: 3, 67: 3, 68: 3, 69: 3, 70: 3, 71: 3, 72: 3, 73: 3, 74: 3, 75: 3, 76: 3, 77: 3, 78: 3, 79: 3, 80: 3, 81: 3, 82: 3, 83: 3, 84: 3, 85: 3, 86: 3, 87: 3, 88: 3, 89: 3, 90: 3, 91: 3, 92: 3, 93: 3, 94: 3, 95: 3, 96: 3, 97: 3, 98: 3, 99: 3, 100: 3, 101: 3, 102: 3, 103: 3, 104: 4, 105: 4, 106: 4, 107: 4, 108: 4, 109: 4, 110: 4, 111: 4, 112: 3, 113: 3, 114: 4, 115: 4, 116: 2, 117: 3, 118: 380, 119: 2, 120: 2, 121: 2, 122: 2, 123: 2, 124: 2, 125: 2, 126: 2, 127: 2, 128: 2, 129: 2, 130: 2, 131: 2, 132: 2, 133: 2, 134: 2, 135: 2, 136: 2, 137: 2, 138: 2, 139: 2, 140: 2, 141: 2, 142: 2, 143: 2, 144: 2, 145: 2, 146: 2, 147: 2, 148: 2, 149: 2, 150: 2, 151: 2, 152: 2, 153: 2, 154: 2, 155: 2, 156: 2, 157: 2, 158: 2, 159: 2, 160: 2, 161: 2, 162: 2, 163: 2, 164: 2, 165: 2, 166: 2, 167: 2, 168: 2, 169: 2, 170: 2, 171: 2, 172: 2, 173: 2, 174: 2, 175: 2, 176: 2, 177: 2, 178: 2, 179: 2, 180: 2, 181: 2, 182: 2, 183: 2, 184: 2, 185: 2, 186: 2, 187: 2, 188: 2, 189: 2, 190: 2, 191: 2, 192: 2, 193: 2, 194: 2, 195: 2, 196: 2, 197: 2, 198: 2, 199: 2, 200: 2, 201: 2, 202: 2, 203: 2, 204: 2, 205: 2, 206: 2, 207: 2, 208: 2, 209: 2, 210: 2, 211: 2, 212: 2, 213: 2, 214: 2, 215: 2, 216: 2, 217: 2, 218: 2, 219: 2, 220: 2, 221: 2, 222: 2, 223: 2, 224: 2, 225: 2, 226: 2, 227: 2, 228: 2, 229: 2, 230: 2, 231: 2, 232: 2, 233: 2, 234: 2, 235: 2, 236: 2, 237: 2, 238: 2, 239: 2, 240: 2, 241: 2, 242: 2, 243: 2, 244: 2, 245: 2, 246: 2, 247: 2, 248: 2, 249: 2, 250: 2, 251: 2, 252: 2, 253: 2, 254: 2, 255: 2, 256: 2, 257: 2, 258: 2, 259: 2, 260: 2, 261: 2, 262: 2, 263: 2, 264: 2, 265: 2, 266: 2, 267: 2, 268: 2, 269: 2, 270: 2, 271: 2, 272: 2, 273: 2, 274: 2, 275: 2, 276: 2, 277: 2, 278: 2, 279: 2, 280: 2, 281: 2, 282: 2, 283: 2, 284: 2, 285: 2, 286: 2, 287: 2, 288: 2, 289: 2, 290: 2, 291: 2, 292: 2, 293: 2, 294: 2, 295: 2, 296: 2, 297: 2, 298: 2, 299: 2, 300: 2, 301: 2, 302: 2, 303: 2, 304: 2, 305: 2, 306: 2, 307: 2, 308: 2, 309: 2, 310: 2, 311: 2, 312: 2, 313: 2, 314: 2, 315: 2, 316: 2, 317: 2, 318: 2, 319: 2, 320: 2, 321: 2, 322: 2, 323: 2, 324: 2, 325: 2, 326: 2, 327: 2, 328: 2, 329: 2, 330: 2, 331: 2, 332: 2, 333: 2, 334: 2, 335: 2, 336: 2, 337: 2, 338: 2, 339: 2, 340: 2, 341: 2, 342: 2, 343: 2, 344: 2, 345: 2, 346: 2, 347: 2, 348: 2, 349: 2, 350: 2, 351: 2, 352: 2, 353: 2, 354: 2, 355: 2, 356: 2, 357: 2, 358: 2, 359: 2, 360: 2, 361: 2, 362: 2, 363: 2, 364: 2, 365: 2, 366: 2, 367: 2, 368: 2, 369: 2, 370: 2, 371: 2, 372: 2, 373: 2, 374: 2, 375: 2, 376: 2, 377: 2, 378: 2, 379: 2, 380: 2, 381: 2, 382: 2, 383: 2, 385: 2, 386: 2, 387: 2, 388: 2, 389: 2, 390: 2, 391: 2, 11: 104, 13: 2, 393: 12, 384: 1}\n",
      "length of edge 1 118\n",
      "length of edge 2 104\n"
     ]
    }
   ],
   "source": [
    "edgeLen(detect(img))"
   ]
  },
  {
   "cell_type": "code",
   "execution_count": null,
   "metadata": {},
   "outputs": [],
   "source": []
  }
 ],
 "metadata": {
  "kernelspec": {
   "display_name": "Python 3",
   "language": "python",
   "name": "python3"
  },
  "language_info": {
   "codemirror_mode": {
    "name": "ipython",
    "version": 3
   },
   "file_extension": ".py",
   "mimetype": "text/x-python",
   "name": "python",
   "nbconvert_exporter": "python",
   "pygments_lexer": "ipython3",
   "version": "3.6.8"
  }
 },
 "nbformat": 4,
 "nbformat_minor": 2
}
