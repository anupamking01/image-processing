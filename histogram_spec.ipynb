{
 "cells": [
  {
   "cell_type": "code",
   "execution_count": 4,
   "metadata": {},
   "outputs": [],
   "source": [
    "import numpy as np\n",
    "import cv2\n",
    "from apply_kernel import *\n",
    "import matplotlib.pyplot as plt\n",
    "%matplotlib qt"
   ]
  },
  {
   "cell_type": "code",
   "execution_count": 5,
   "metadata": {},
   "outputs": [],
   "source": [
    "img = cv2.imread('images/board.jpg',cv2.IMREAD_GRAYSCALE)\n",
    "des_img = cv2.imread('images/board_desired.jpg',cv2.IMREAD_GRAYSCALE)\n",
    "bins_count = 256\n",
    "# plt.imshow(img,cmap='gray')\n",
    "\n",
    "plt.figure(0)\n",
    "plt.subplot(131)\n",
    "plt.title(\"original\")\n",
    "freq, bins, patches = plt.hist(img.ravel(),bins=bins_count)\n",
    "total_pixels = np.sum(freq)\n",
    "\n",
    "plt.subplot(132)\n",
    "plt.title(\"desired\")\n",
    "dfreq, dbins, dpatches = plt.hist(des_img.ravel(),bins=bins_count)\n",
    "# plt.show()\n",
    "\n",
    "# bins = np.array([0,1,2,3,4,5,6,7])\n",
    "# freq = np.array([8,10,10,2,12,16,4,2])\n",
    "# dfreq = np.array([0,0,0,0,20,20,16,8])\n",
    "# total_pixels = np.sum(freq)\n",
    "# bins_count = 8"
   ]
  },
  {
   "cell_type": "code",
   "execution_count": 6,
   "metadata": {},
   "outputs": [],
   "source": [
    "c1 = freq/total_pixels\n",
    "prev = 0\n",
    "for i in range(len(c1)):\n",
    "    c1[i] = prev = prev + c1[i]\n",
    "c1 *= bins[-1]\n",
    "c1 = np.round(c1)\n",
    "\n",
    "c2 = dfreq/total_pixels\n",
    "prev=0\n",
    "for i in range(len(c2)):\n",
    "    c2[i] = prev = prev + c2[i]\n",
    "c2 *= bins[-1]\n",
    "c2 = np.round(c2)\n",
    "\n",
    "d = []\n",
    "ic1, ic2 = 0, 0\n",
    "while ic1 < len(c1):\n",
    "    while c1[ic1] > c2[ic2]:\n",
    "        ic2 += 1\n",
    "    d.append(bins[ic2])\n",
    "    ic1 += 1\n",
    "    \n",
    "d = np.array(d,dtype='int')\n",
    "\n",
    "des_hist = np.zeros(bins_count)\n",
    "ret_img = np.array(img,copy=True)\n",
    "\n",
    "for i in range(len(d)):\n",
    "    des_hist[d[i]] += freq[i]\n",
    "    ret_img[img == i] = d[i]\n"
   ]
  },
  {
   "cell_type": "code",
   "execution_count": 7,
   "metadata": {},
   "outputs": [],
   "source": [
    "\n",
    "plt.subplot(133)\n",
    "plt.title(\"retrived\")\n",
    "plt.bar(np.arange(0,256),des_hist)\n",
    "\n",
    "plt.figure(1)\n",
    "plt.subplot(131)\n",
    "plt.imshow(img,cmap='gray')\n",
    "plt.title(\"original\")\n",
    "\n",
    "plt.subplot(132)\n",
    "plt.imshow(des_img,cmap='gray')\n",
    "plt.title(\"desired\")\n",
    "\n",
    "plt.subplot(133)\n",
    "plt.imshow(ret_img,cmap='gray')\n",
    "plt.title(\"retrived\")\n",
    "\n",
    "plt.show()"
   ]
  }
 ],
 "metadata": {
  "kernelspec": {
   "display_name": "Python 3",
   "language": "python",
   "name": "python3"
  },
  "language_info": {
   "codemirror_mode": {
    "name": "ipython",
    "version": 3
   },
   "file_extension": ".py",
   "mimetype": "text/x-python",
   "name": "python",
   "nbconvert_exporter": "python",
   "pygments_lexer": "ipython3",
   "version": "3.7.3"
  }
 },
 "nbformat": 4,
 "nbformat_minor": 2
}
