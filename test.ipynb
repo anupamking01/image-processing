{
 "cells": [
  {
   "cell_type": "code",
   "execution_count": 3,
   "metadata": {},
   "outputs": [],
   "source": [
    "import numpy as np\n",
    "import cv2\n",
    "import matplotlib.pyplot as plt\n",
    "from apply_kernel import apply_kernel\n",
    "%matplotlib qt"
   ]
  },
  {
   "cell_type": "code",
   "execution_count": 12,
   "metadata": {},
   "outputs": [
    {
     "data": {
      "text/plain": [
       "-447"
      ]
     },
     "execution_count": 12,
     "metadata": {},
     "output_type": "execute_result"
    }
   ],
   "source": [
    "img = cv2.imread('images/daisy.jpg',cv2.IMREAD_GRAYSCALE)\n",
    "plt.figure(\"orig\")\n",
    "plt.imshow(img,cmap='gray')\n",
    "\n",
    "sobel_kernel_x = np.array([[-1,0,1],\n",
    "                           [-2,0,2],\n",
    "                           [-1,0,1]])\n",
    "sobel_kernel_y = np.array([[-1,-2,-1],\n",
    "                           [0,0,0],\n",
    "                           [1,2,1]])\n",
    "h_pass_k = np.array([[-1,-1,-1],[-1,8,-1],[-1,-1,-1]])/9\n",
    "\n",
    "img = cv2.GaussianBlur(img,(3,3),0)\n",
    "edg = cv2.filter2D(img,-1,h_pass_k)\n",
    "# edg = cv2.Canny(img,50,150)\n",
    "# gx = apply_kernel(img,sobel_kernel_x,padding=True,allow_neg=True)\n",
    "# gy = apply_kernel(img,sobel_kernel_y,padding=True,allow_neg=True)\n",
    "gx = cv2.filter2D(img,cv2.CV_16S,sobel_kernel_x)\n",
    "gy = cv2.filter2D(img,cv2.CV_16S,sobel_kernel_y)\n",
    "gx[gx == 0] = 1\n",
    "\n",
    "plt.figure(\"edge\")\n",
    "plt.imshow(edg,cmap='gray')\n",
    "plt.colorbar()\n",
    "\n",
    "plt.figure(\"gradients\")\n",
    "plt.subplot(121)\n",
    "plt.imshow(gx,cmap='gray')\n",
    "plt.colorbar()\n",
    "plt.subplot(122)\n",
    "plt.imshow(gy,cmap='gray')\n",
    "plt.colorbar()\n",
    "\n",
    "r=np.abs(gx)+np.abs(gy) \n",
    "plt.figure(\"res\")\n",
    "plt.imshow(r,cmap='gray')\n",
    "np.min(gy)"
   ]
  },
  {
   "cell_type": "code",
   "execution_count": 14,
   "metadata": {},
   "outputs": [
    {
     "data": {
      "text/plain": [
       "<matplotlib.colorbar.Colorbar at 0x209741169b0>"
      ]
     },
     "execution_count": 14,
     "metadata": {},
     "output_type": "execute_result"
    }
   ],
   "source": [
    "direc = 180*np.arctan(gy/gx)/np.pi\n",
    "mag = gx+gy\n",
    "plt.figure(\"direct\")\n",
    "# plt.subplot(121)\n",
    "plt.imshow(-direc,cmap='hsv')\n",
    "plt.colorbar()\n",
    "# plt.subplot(122)\n",
    "# plt.imshow(mag,cmap='gray')\n",
    "# plt.colorbar()"
   ]
  }
 ],
 "metadata": {
  "kernelspec": {
   "display_name": "Python 3",
   "language": "python",
   "name": "python3"
  },
  "language_info": {
   "codemirror_mode": {
    "name": "ipython",
    "version": 3
   },
   "file_extension": ".py",
   "mimetype": "text/x-python",
   "name": "python",
   "nbconvert_exporter": "python",
   "pygments_lexer": "ipython3",
   "version": "3.7.3"
  }
 },
 "nbformat": 4,
 "nbformat_minor": 2
}
