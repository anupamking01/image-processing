{
 "cells": [
  {
   "cell_type": "code",
   "execution_count": 4,
   "metadata": {},
   "outputs": [],
   "source": [
    "import numpy as np\n",
    "import cv2\n",
    "import matplotlib.pyplot as plt\n",
    "%matplotlib qt"
   ]
  },
  {
   "cell_type": "code",
   "execution_count": 6,
   "metadata": {},
   "outputs": [],
   "source": [
    "img = cv2.imread('images/cups.jpg')\n",
    "plt.imshow(cv2.cvtColor(img,cv2.COLOR_BGR2RGB))\n",
    "plt.title(\"original\")\n",
    "plt.show()"
   ]
  },
  {
   "cell_type": "code",
   "execution_count": 7,
   "metadata": {},
   "outputs": [],
   "source": [
    "r,g,b = img[:,:,2], img[:,:,1], img[:,:,0]\n",
    "plt.figure(\"channels\",figsize=(20,5))\n",
    "plt.subplot(131)\n",
    "plt.imshow(r,cmap='Reds')\n",
    "plt.title(\"red\")\n",
    "plt.colorbar()\n",
    "plt.subplot(132)\n",
    "plt.imshow(r,cmap='Greens')\n",
    "plt.title(\"green\")\n",
    "plt.colorbar()\n",
    "plt.subplot(133)\n",
    "plt.imshow(r,cmap='Blues')\n",
    "plt.title(\"blue\")\n",
    "plt.colorbar()\n",
    "plt.show()"
   ]
  },
  {
   "cell_type": "code",
   "execution_count": 8,
   "metadata": {},
   "outputs": [],
   "source": [
    "grey = val = 0.2989*r + 0.5870*g + 0.1140*b\n",
    "plt.imshow(grey,cmap='gray')\n",
    "plt.title(\"greyscale\")\n",
    "plt.colorbar()\n",
    "plt.show()"
   ]
  }
 ],
 "metadata": {
  "kernelspec": {
   "display_name": "Python 3",
   "language": "python",
   "name": "python3"
  },
  "language_info": {
   "codemirror_mode": {
    "name": "ipython",
    "version": 3
   },
   "file_extension": ".py",
   "mimetype": "text/x-python",
   "name": "python",
   "nbconvert_exporter": "python",
   "pygments_lexer": "ipython3",
   "version": "3.7.0"
  }
 },
 "nbformat": 4,
 "nbformat_minor": 2
}
